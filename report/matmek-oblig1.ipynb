{
 "cells": [
  {
   "cell_type": "markdown",
   "metadata": {},
   "source": [
    "## 1.2.3"
   ]
  },
  {
   "cell_type": "markdown",
   "metadata": {},
   "source": [
    "\n",
    "\\begin{equation}\n",
    "    u(t,x,y) = e^{i(k_x x + k_y y - w t)}\n",
    "\\end{equation}\n"
   ]
  },
  {
   "cell_type": "markdown",
   "metadata": {},
   "source": [
    "deriverer utrykket med hensyn på t, for å få venstre side. "
   ]
  },
  {
   "cell_type": "markdown",
   "metadata": {},
   "source": [
    "\\begin{equation}\n",
    "\\frac{d^2}{dt^2} e^{i(k_x x + k_y y - w t)} = i^2 (-1)^2 w^2 e^{i(k_x x + k_y y - w t)}\n",
    "\\end{equation}"
   ]
  },
  {
   "cell_type": "markdown",
   "metadata": {},
   "source": [
    "deriverer utrykket mhp på x og y, (laplaceoperator)"
   ]
  },
  {
   "cell_type": "markdown",
   "metadata": {},
   "source": [
    "\\begin{equation}\n",
    "\\frac{d^2}{dx^2} e^{i(k_x x + k_y y - w t)} = i^2 (k_x)^2 e^{i(k_x x + k_y y - w t)}\n",
    "\\end{equation}"
   ]
  },
  {
   "cell_type": "markdown",
   "metadata": {},
   "source": [
    "vi får tilsvarende for y. Så tar vi $c^2$ og setter sammen\n"
   ]
  },
  {
   "cell_type": "markdown",
   "metadata": {},
   "source": [
    "\\begin{equation}\n",
    "i^2 w^2 e^{i(k_x x + k_y y - w t)} = c^2 i^2 (k_x)^2 e^{i(k_x x + k_y y - w t)} + c^2 i^2 (k_y)^2 e^2{i(k_x x + k_y y - w t)}\n",
    "\\end{equation}"
   ]
  },
  {
   "cell_type": "markdown",
   "metadata": {},
   "source": [
    "her er det mye å stryke, så vi sitter igjen med"
   ]
  },
  {
   "cell_type": "markdown",
   "metadata": {},
   "source": [
    "\\begin{equation}\n",
    "w^2 = c^2(k_x + k_y)^2\n",
    "\\end{equation}"
   ]
  },
  {
   "cell_type": "markdown",
   "metadata": {},
   "source": [
    "som gir"
   ]
  },
  {
   "cell_type": "markdown",
   "metadata": {},
   "source": [
    "w = $\\pm c(k_x + k_y)$"
   ]
  },
  {
   "cell_type": "markdown",
   "metadata": {},
   "source": [
    "## 1.2.4"
   ]
  },
  {
   "cell_type": "markdown",
   "metadata": {},
   "source": [
    "Assume that $m_x = m_y$ slik at $k_x = k_y = k$. The imaginary unit: $æ = \\sqrt{-1}$\n",
    "\\begin{equation}\n",
    "\tu_{ij}^n = e^{æ(kh(i+j)- \\tilde{w}n \\Delta t)} \n",
    "\\end{equation}\n",
    "\n",
    "\\begin{equation}\n",
    "    \\frac{u_{i,j}^{n+1} - 2 u_{i,j}^{n} + u_{i,j}^{n-1} }{\\Delta t^2} = c^2 \\left( \\frac{u_{i+1,j}^{n} - 2 u_{i,j}^{n} + u_{i-1,j}^{n} }{h^2} + \\frac{u_{i,j+1}^{n} - 2 u_{i,j}^{n} + u_{i,j-1}^{n} }{h^2}  \\right)\n",
    " \\end{equation}\n"
   ]
  },
  {
   "cell_type": "markdown",
   "metadata": {},
   "source": [
    "We see that\n",
    "$u_{i-1,j}^{n} = u_{i,j-1}^{n}$ og $u_{i+1,j}^{n}  = u_{i,j+1}^{n}$\n"
   ]
  },
  {
   "cell_type": "markdown",
   "metadata": {},
   "source": [
    "\n",
    "\n",
    "\n",
    "\\begin{equation}\n",
    "    \\frac{u_{i,j}^{n+1} - 2 u_{i,j}^{n} + u_{i,j}^{n-1} }{1} = \\frac{c^2*\\Delta t^2}{h^2} \\left( \\frac{ 2 u_{i+1,j}^{n} - 2*2 u_{i,j}^{n} + 2u_{i-1,j}^{n} }{1} \\right)\n",
    " \\end{equation}\n"
   ]
  },
  {
   "cell_type": "markdown",
   "metadata": {},
   "source": [
    "\n",
    "\n",
    "\n",
    "\\begin{equation}\n",
    "    u_{i,j}^{n+1} - 2 u_{i,j}^{n} + u_{i,j}^{n-1} = \\frac{2*c^2*\\Delta t^2}{h^2} \\left(   u_{i+1,j}^{n} - 2 u_{i,j}^{n} + u_{i-1,j}^{n} \\right)\n",
    " \\end{equation}\n"
   ]
  },
  {
   "cell_type": "markdown",
   "metadata": {},
   "source": [
    "\n",
    "C er = $\\frac{c*\\Delta t}{h} = \\frac{1}{\\sqrt{2}}$, som i annen gjør at vi kan stryke 2 mot 1/2. \n",
    "\\begin{equation}\n",
    "    u_{i,j}^{n+1} - 2 u_{i,j}^{n} + u_{i,j}^{n-1} =   u_{i+1,j}^{n} - 2 u_{i,j}^{n} + u_{i-1,j}^{n}\n",
    " \\end{equation}\n"
   ]
  },
  {
   "cell_type": "markdown",
   "metadata": {},
   "source": [
    "\n",
    "fjerner $-2u_{i,j}^n$ på begge sider \n",
    "\\begin{equation}\n",
    "    u_{i,j}^{n+1} + u_{i,j}^{n-1} =   u_{i+1,j}^{n} + u_{i-1,j}^{n}\n",
    " \\end{equation}\n"
   ]
  },
  {
   "cell_type": "markdown",
   "metadata": {},
   "source": [
    "faktoriserer ut \n",
    "\\begin{equation}\n",
    "\tu_{ij}^n = e^{æ(kh(i+j)- \\tilde{w}n \\Delta t)} \n",
    "\\end{equation}"
   ]
  },
  {
   "cell_type": "markdown",
   "metadata": {},
   "source": [
    "\n",
    " \n",
    "\\begin{equation}\n",
    "    u_{i,j}^{n}*u_{i,j}^{1}  + u_{i,j}^{n}*u_{i,j}^{-1}  =   u_{1}^{n}*u_{i,j}^{n}  + u_{-1}^{n}*u_{i,j}^{n} \n",
    " \\end{equation}\n"
   ]
  },
  {
   "cell_type": "markdown",
   "metadata": {},
   "source": [
    "\n",
    " \n",
    "\\begin{equation}\n",
    "    u_{i,j}^{1}  + u_{i,j}^{-1}  =   u_{1}^{n}  + u_{-1}^{n} \n",
    " \\end{equation}\n"
   ]
  },
  {
   "cell_type": "markdown",
   "metadata": {},
   "source": [
    "\n",
    " \n",
    "\\begin{equation}\n",
    "    u_{i,j}^{1}  + u_{i,j}^{-1}  =   u_{1}^{n}  + u_{-1}^{n} \n",
    " \\end{equation}\n",
    " \n"
   ]
  },
  {
   "cell_type": "markdown",
   "metadata": {},
   "source": [
    "\\begin{equation}\n",
    "e^{æ(kh(i+j)- \\tilde{w}n \\Delta t)} \n",
    "\\end{equation}\n"
   ]
  },
  {
   "cell_type": "markdown",
   "metadata": {},
   "source": [
    "\\begin{equation}\n",
    "e^{æ(\\tilde{w}n \\Delta t)} + e^{æ(-\\tilde{w}n \\Delta t)}  = e^{æ(kh(1))} + e^{æ(kh(-1))} \n",
    "\\end{equation}\n"
   ]
  },
  {
   "cell_type": "markdown",
   "metadata": {},
   "source": [
    "bruker Eulers formel"
   ]
  },
  {
   "cell_type": "markdown",
   "metadata": {},
   "source": [
    "\\begin{equation}\n",
    "\\cos(\\tilde{w}\\Delta t) = \\cos(kh)\n",
    "\\end{equation}\n"
   ]
  },
  {
   "cell_type": "markdown",
   "metadata": {},
   "source": [
    "\\begin{equation}\n",
    "\\tilde{w} = \\frac{w \\Delta x}{c \\Delta t \\sqrt{2}} = w\n",
    "\\end{equation}\n"
   ]
  }
 ],
 "metadata": {
  "kernelspec": {
   "display_name": "matmek4270",
   "language": "python",
   "name": "python3"
  },
  "language_info": {
   "name": "python",
   "version": "3.12.5"
  }
 },
 "nbformat": 4,
 "nbformat_minor": 2
}
